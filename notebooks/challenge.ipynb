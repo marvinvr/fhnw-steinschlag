{
 "cells": [
  {
   "cell_type": "code",
   "execution_count": 1,
   "id": "397b3405",
   "metadata": {
    "execution": {
     "iopub.execute_input": "2021-10-13T15:26:51.374516Z",
     "iopub.status.busy": "2021-10-13T15:26:51.373435Z",
     "iopub.status.idle": "2021-10-13T15:26:51.386069Z",
     "shell.execute_reply": "2021-10-13T15:26:51.386530Z"
    }
   },
   "outputs": [
    {
     "name": "stdout",
     "output_type": "stream",
     "text": [
      "6\n",
      "testing smth\n",
      "25\n"
     ]
    }
   ],
   "source": [
    "print(2*3)\n",
    "print('testing smth')\n",
    "print(5*5)"
   ]
  },
  {
   "cell_type": "code",
   "execution_count": 2,
   "id": "ed77aad0",
   "metadata": {
    "execution": {
     "iopub.execute_input": "2021-10-13T15:26:51.393000Z",
     "iopub.status.busy": "2021-10-13T15:26:51.391574Z",
     "iopub.status.idle": "2021-10-13T15:26:51.395226Z",
     "shell.execute_reply": "2021-10-13T15:26:51.394733Z"
    }
   },
   "outputs": [
    {
     "name": "stdout",
     "output_type": "stream",
     "text": [
      "16\n"
     ]
    }
   ],
   "source": [
    "print(5*3+1)"
   ]
  },
  {
   "cell_type": "markdown",
   "id": "920d2109",
   "metadata": {},
   "source": [
    "Luca sein erster Versuch"
   ]
  },
  {
   "cell_type": "code",
   "execution_count": 3,
   "id": "b985ae0f",
   "metadata": {
    "execution": {
     "iopub.execute_input": "2021-10-13T15:26:51.399892Z",
     "iopub.status.busy": "2021-10-13T15:26:51.397582Z",
     "iopub.status.idle": "2021-10-13T15:26:51.403107Z",
     "shell.execute_reply": "2021-10-13T15:26:51.402613Z"
    },
    "lines_to_next_cell": 0
   },
   "outputs": [
    {
     "name": "stdout",
     "output_type": "stream",
     "text": [
      "Ich bin kein Informatiker\n"
     ]
    }
   ],
   "source": [
    "#Das ist ein Text von Philip Tanner\n",
    "print('Ich bin kein Informatiker')"
   ]
  },
  {
   "cell_type": "code",
   "execution_count": null,
   "id": "04eb03dc",
   "metadata": {},
   "outputs": [],
   "source": []
  }
 ],
 "metadata": {
  "jupytext": {
   "cell_metadata_filter": "-all"
  },
  "kernelspec": {
   "display_name": "Python 3 (ipykernel)",
   "language": "python",
   "name": "python3"
  },
  "language_info": {
   "codemirror_mode": {
    "name": "ipython",
    "version": 3
   },
   "file_extension": ".py",
   "mimetype": "text/x-python",
   "name": "python",
   "nbconvert_exporter": "python",
   "pygments_lexer": "ipython3",
   "version": "3.9.7"
  }
 },
 "nbformat": 4,
 "nbformat_minor": 5
}
