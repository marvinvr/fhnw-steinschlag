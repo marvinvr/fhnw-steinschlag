{
 "cells": [
  {
   "cell_type": "code",
   "execution_count": 1,
   "id": "b44a967a",
   "metadata": {
    "execution": {
     "iopub.execute_input": "2021-10-13T15:24:29.676410Z",
     "iopub.status.busy": "2021-10-13T15:24:29.674472Z",
     "iopub.status.idle": "2021-10-13T15:24:29.679775Z",
     "shell.execute_reply": "2021-10-13T15:24:29.680206Z"
    }
   },
   "outputs": [
    {
     "name": "stdout",
     "output_type": "stream",
     "text": [
      "6\n",
      "testing smth\n",
      "25\n"
     ]
    }
   ],
   "source": [
    "print(2*3)\n",
    "print('testing smth')\n",
    "print(5*5)"
   ]
  },
  {
   "cell_type": "code",
   "execution_count": 2,
   "id": "6a6182b1",
   "metadata": {
    "execution": {
     "iopub.execute_input": "2021-10-13T15:24:29.685424Z",
     "iopub.status.busy": "2021-10-13T15:24:29.684443Z",
     "iopub.status.idle": "2021-10-13T15:24:29.687098Z",
     "shell.execute_reply": "2021-10-13T15:24:29.687533Z"
    }
   },
   "outputs": [
    {
     "name": "stdout",
     "output_type": "stream",
     "text": [
      "16\n"
     ]
    }
   ],
   "source": [
    "print(5*3+1)"
   ]
  },
  {
   "cell_type": "code",
   "execution_count": 3,
   "id": "07446f5c",
   "metadata": {
    "execution": {
     "iopub.execute_input": "2021-10-13T15:24:29.695734Z",
     "iopub.status.busy": "2021-10-13T15:24:29.695188Z",
     "iopub.status.idle": "2021-10-13T15:24:29.698042Z",
     "shell.execute_reply": "2021-10-13T15:24:29.698500Z"
    }
   },
   "outputs": [
    {
     "name": "stdout",
     "output_type": "stream",
     "text": [
      "Ich bin kein Informatiker\n"
     ]
    }
   ],
   "source": [
    "#Das ist ein Text von Philip Tanner\n",
    "print('Ich bin kein Informatiker')"
   ]
  },
  {
   "cell_type": "code",
   "execution_count": null,
   "id": "01096739",
   "metadata": {},
   "outputs": [],
   "source": []
  }
 ],
 "metadata": {
  "jupytext": {
   "cell_metadata_filter": "-all"
  },
  "kernelspec": {
   "display_name": "Python 3 (ipykernel)",
   "language": "python",
   "name": "python3"
  },
  "language_info": {
   "codemirror_mode": {
    "name": "ipython",
    "version": 3
   },
   "file_extension": ".py",
   "mimetype": "text/x-python",
   "name": "python",
   "nbconvert_exporter": "python",
   "pygments_lexer": "ipython3",
   "version": "3.9.7"
  }
 },
 "nbformat": 4,
 "nbformat_minor": 5
}
