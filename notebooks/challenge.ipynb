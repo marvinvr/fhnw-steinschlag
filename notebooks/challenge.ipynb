{
 "cells": [
  {
   "cell_type": "code",
   "execution_count": 1,
   "id": "943897fd",
   "metadata": {
    "execution": {
     "iopub.execute_input": "2021-10-13T14:48:50.114185Z",
     "iopub.status.busy": "2021-10-13T14:48:50.112349Z",
     "iopub.status.idle": "2021-10-13T14:48:50.117627Z",
     "shell.execute_reply": "2021-10-13T14:48:50.118159Z"
    }
   },
   "outputs": [
    {
     "name": "stdout",
     "output_type": "stream",
     "text": [
      "6\n",
      "testing smth\n"
     ]
    }
   ],
   "source": [
    "print(2*3)\n",
    "print('testing smth')"
   ]
  },
  {
   "cell_type": "code",
   "execution_count": 2,
   "id": "266c9d93",
   "metadata": {
    "execution": {
     "iopub.execute_input": "2021-10-13T14:48:50.123993Z",
     "iopub.status.busy": "2021-10-13T14:48:50.122808Z",
     "iopub.status.idle": "2021-10-13T14:48:50.125937Z",
     "shell.execute_reply": "2021-10-13T14:48:50.126384Z"
    }
   },
   "outputs": [
    {
     "name": "stdout",
     "output_type": "stream",
     "text": [
      "16\n"
     ]
    }
   ],
   "source": [
    "print(5*3+1)"
   ]
  },
  {
   "cell_type": "code",
   "execution_count": null,
   "id": "e5102b77",
   "metadata": {},
   "outputs": [],
   "source": []
  },
  {
   "cell_type": "code",
   "execution_count": null,
   "id": "aae969e3",
   "metadata": {},
   "outputs": [],
   "source": []
  }
 ],
 "metadata": {
  "jupytext": {
   "cell_metadata_filter": "-all"
  },
  "kernelspec": {
   "display_name": "Python 3 (ipykernel)",
   "language": "python",
   "name": "python3"
  },
  "language_info": {
   "codemirror_mode": {
    "name": "ipython",
    "version": 3
   },
   "file_extension": ".py",
   "mimetype": "text/x-python",
   "name": "python",
   "nbconvert_exporter": "python",
   "pygments_lexer": "ipython3",
   "version": "3.9.7"
  }
 },
 "nbformat": 4,
 "nbformat_minor": 5
}
