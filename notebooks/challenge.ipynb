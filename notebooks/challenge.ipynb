{
 "cells": [
  {
   "cell_type": "code",
   "execution_count": 1,
   "id": "12c24bd4",
   "metadata": {
    "execution": {
     "iopub.execute_input": "2021-10-13T15:14:12.548324Z",
     "iopub.status.busy": "2021-10-13T15:14:12.547670Z",
     "iopub.status.idle": "2021-10-13T15:14:12.551370Z",
     "shell.execute_reply": "2021-10-13T15:14:12.551776Z"
    }
   },
   "outputs": [
    {
     "name": "stdout",
     "output_type": "stream",
     "text": [
      "6\n",
      "testing smth\n"
     ]
    }
   ],
   "source": [
    "print(2*3)\n",
    "print('testing smth')"
   ]
  },
  {
   "cell_type": "code",
   "execution_count": 2,
   "id": "fedc9c20",
   "metadata": {
    "execution": {
     "iopub.execute_input": "2021-10-13T15:14:12.557263Z",
     "iopub.status.busy": "2021-10-13T15:14:12.555935Z",
     "iopub.status.idle": "2021-10-13T15:14:12.559161Z",
     "shell.execute_reply": "2021-10-13T15:14:12.558693Z"
    }
   },
   "outputs": [
    {
     "name": "stdout",
     "output_type": "stream",
     "text": [
      "16\n"
     ]
    }
   ],
   "source": [
    "print(5*3+1)"
   ]
  },
  {
   "cell_type": "code",
   "execution_count": 3,
   "id": "9f21fe98",
   "metadata": {
    "execution": {
     "iopub.execute_input": "2021-10-13T15:14:12.563670Z",
     "iopub.status.busy": "2021-10-13T15:14:12.563091Z",
     "iopub.status.idle": "2021-10-13T15:14:12.565252Z",
     "shell.execute_reply": "2021-10-13T15:14:12.565648Z"
    }
   },
   "outputs": [
    {
     "name": "stdout",
     "output_type": "stream",
     "text": [
      "Ich bin kein Informatiker\n"
     ]
    }
   ],
   "source": [
    "#Das ist ein Text von Philip Tanner\n",
    "print('Ich bin kein Informatiker')"
   ]
  },
  {
   "cell_type": "code",
   "execution_count": null,
   "id": "8fdf746f",
   "metadata": {},
   "outputs": [],
   "source": []
  }
 ],
 "metadata": {
  "jupytext": {
   "cell_metadata_filter": "-all"
  },
  "kernelspec": {
   "display_name": "Python 3 (ipykernel)",
   "language": "python",
   "name": "python3"
  },
  "language_info": {
   "codemirror_mode": {
    "name": "ipython",
    "version": 3
   },
   "file_extension": ".py",
   "mimetype": "text/x-python",
   "name": "python",
   "nbconvert_exporter": "python",
   "pygments_lexer": "ipython3",
   "version": "3.9.7"
  }
 },
 "nbformat": 4,
 "nbformat_minor": 5
}
