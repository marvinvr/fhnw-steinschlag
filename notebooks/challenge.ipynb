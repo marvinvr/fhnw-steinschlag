{
 "cells": [
  {
   "cell_type": "code",
   "execution_count": 1,
   "id": "d8e34858",
   "metadata": {
    "execution": {
     "iopub.execute_input": "2021-10-14T19:02:41.224327Z",
     "iopub.status.busy": "2021-10-14T19:02:41.223705Z",
     "iopub.status.idle": "2021-10-14T19:02:41.232371Z",
     "shell.execute_reply": "2021-10-14T19:02:41.232747Z"
    }
   },
   "outputs": [
    {
     "name": "stdout",
     "output_type": "stream",
     "text": [
      "6\n",
      "testing smth\n",
      "25\n"
     ]
    }
   ],
   "source": [
    "print(2*3)\n",
    "print('testing smth')\n",
    "print(5*5)"
   ]
  },
  {
   "cell_type": "code",
   "execution_count": 2,
   "id": "16f82ee0",
   "metadata": {
    "execution": {
     "iopub.execute_input": "2021-10-14T19:02:41.237449Z",
     "iopub.status.busy": "2021-10-14T19:02:41.236427Z",
     "iopub.status.idle": "2021-10-14T19:02:41.239239Z",
     "shell.execute_reply": "2021-10-14T19:02:41.238841Z"
    }
   },
   "outputs": [
    {
     "name": "stdout",
     "output_type": "stream",
     "text": [
      "16\n"
     ]
    }
   ],
   "source": [
    "print(5*3+1)"
   ]
  },
  {
   "cell_type": "markdown",
   "id": "e4ecbdc8",
   "metadata": {},
   "source": [
    "Luca sein erster Versuch"
   ]
  },
  {
   "cell_type": "code",
   "execution_count": 3,
   "id": "585c5d53",
   "metadata": {
    "execution": {
     "iopub.execute_input": "2021-10-14T19:02:41.243276Z",
     "iopub.status.busy": "2021-10-14T19:02:41.242466Z",
     "iopub.status.idle": "2021-10-14T19:02:41.244633Z",
     "shell.execute_reply": "2021-10-14T19:02:41.244997Z"
    },
    "lines_to_next_cell": 0
   },
   "outputs": [
    {
     "name": "stdout",
     "output_type": "stream",
     "text": [
      "Ich bin kein Informatiker\n"
     ]
    }
   ],
   "source": [
    "#Das ist ein Text von Philip Tanner\n",
    "print('Ich bin kein Informatiker')"
   ]
  },
  {
   "cell_type": "code",
   "execution_count": 4,
   "id": "5db4f225",
   "metadata": {
    "execution": {
     "iopub.execute_input": "2021-10-14T19:02:41.248323Z",
     "iopub.status.busy": "2021-10-14T19:02:41.247877Z",
     "iopub.status.idle": "2021-10-14T19:02:41.249595Z",
     "shell.execute_reply": "2021-10-14T19:02:41.249954Z"
    }
   },
   "outputs": [
    {
     "name": "stdout",
     "output_type": "stream",
     "text": [
      "Test Yannic\n"
     ]
    }
   ],
   "source": [
    "print('Test Yannic')"
   ]
  },
  {
   "cell_type": "code",
   "execution_count": null,
   "id": "65ad3cdc",
   "metadata": {},
   "outputs": [],
   "source": []
  }
 ],
 "metadata": {
  "jupytext": {
   "cell_metadata_filter": "-all"
  },
  "kernelspec": {
   "display_name": "Python 3 (ipykernel)",
   "language": "python",
   "name": "python3"
  },
  "language_info": {
   "codemirror_mode": {
    "name": "ipython",
    "version": 3
   },
   "file_extension": ".py",
   "mimetype": "text/x-python",
   "name": "python",
   "nbconvert_exporter": "python",
   "pygments_lexer": "ipython3",
   "version": "3.9.7"
  }
 },
 "nbformat": 4,
 "nbformat_minor": 5
}
