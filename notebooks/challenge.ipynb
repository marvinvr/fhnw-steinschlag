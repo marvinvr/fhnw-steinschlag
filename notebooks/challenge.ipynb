{
 "cells": [
  {
   "cell_type": "code",
   "execution_count": 1,
   "id": "b7868f3b",
   "metadata": {
    "execution": {
     "iopub.execute_input": "2021-10-13T15:23:05.552125Z",
     "iopub.status.busy": "2021-10-13T15:23:05.550365Z",
     "iopub.status.idle": "2021-10-13T15:23:05.555385Z",
     "shell.execute_reply": "2021-10-13T15:23:05.555834Z"
    }
   },
   "outputs": [
    {
     "name": "stdout",
     "output_type": "stream",
     "text": [
      "6\n",
      "testing smth\n",
      "25\n"
     ]
    }
   ],
   "source": [
    "print(2*3)\n",
    "print('testing smth')\n",
    "print(5*5)"
   ]
  },
  {
   "cell_type": "code",
   "execution_count": 2,
   "id": "4bbe8702",
   "metadata": {
    "execution": {
     "iopub.execute_input": "2021-10-13T15:23:05.560938Z",
     "iopub.status.busy": "2021-10-13T15:23:05.559759Z",
     "iopub.status.idle": "2021-10-13T15:23:05.563418Z",
     "shell.execute_reply": "2021-10-13T15:23:05.562627Z"
    }
   },
   "outputs": [
    {
     "name": "stdout",
     "output_type": "stream",
     "text": [
      "16\n"
     ]
    }
   ],
   "source": [
    "print(5*3+1)"
   ]
  },
  {
   "cell_type": "code",
   "execution_count": 3,
   "id": "4127a524",
   "metadata": {
    "execution": {
     "iopub.execute_input": "2021-10-13T15:23:05.566802Z",
     "iopub.status.busy": "2021-10-13T15:23:05.565517Z",
     "iopub.status.idle": "2021-10-13T15:23:05.568605Z",
     "shell.execute_reply": "2021-10-13T15:23:05.569035Z"
    }
   },
   "outputs": [
    {
     "name": "stdout",
     "output_type": "stream",
     "text": [
      "Ich bin kein Informatiker\n"
     ]
    }
   ],
   "source": [
    "#Das ist ein Text von Philip Tanner\n",
    "print('Ich bin kein Informatiker')"
   ]
  },
  {
   "cell_type": "code",
   "execution_count": null,
   "id": "4e338f79",
   "metadata": {},
   "outputs": [],
   "source": []
  }
 ],
 "metadata": {
  "jupytext": {
   "cell_metadata_filter": "-all"
  },
  "kernelspec": {
   "display_name": "Python 3 (ipykernel)",
   "language": "python",
   "name": "python3"
  },
  "language_info": {
   "codemirror_mode": {
    "name": "ipython",
    "version": 3
   },
   "file_extension": ".py",
   "mimetype": "text/x-python",
   "name": "python",
   "nbconvert_exporter": "python",
   "pygments_lexer": "ipython3",
   "version": "3.9.7"
  }
 },
 "nbformat": 4,
 "nbformat_minor": 5
}
