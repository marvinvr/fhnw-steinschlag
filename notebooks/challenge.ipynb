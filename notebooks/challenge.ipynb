{
 "cells": [
  {
   "cell_type": "code",
   "execution_count": 1,
   "id": "3b7f3d82",
   "metadata": {
    "execution": {
     "iopub.execute_input": "2021-10-13T15:23:23.947056Z",
     "iopub.status.busy": "2021-10-13T15:23:23.946416Z",
     "iopub.status.idle": "2021-10-13T15:23:23.955091Z",
     "shell.execute_reply": "2021-10-13T15:23:23.955462Z"
    }
   },
   "outputs": [
    {
     "name": "stdout",
     "output_type": "stream",
     "text": [
      "6\n",
      "testing smth\n",
      "25\n"
     ]
    }
   ],
   "source": [
    "print(2*3)\n",
    "print('testing smth')\n",
    "print(5*5)"
   ]
  },
  {
   "cell_type": "code",
   "execution_count": 2,
   "id": "cccdc787",
   "metadata": {
    "execution": {
     "iopub.execute_input": "2021-10-13T15:23:23.960421Z",
     "iopub.status.busy": "2021-10-13T15:23:23.959513Z",
     "iopub.status.idle": "2021-10-13T15:23:23.962372Z",
     "shell.execute_reply": "2021-10-13T15:23:23.961933Z"
    }
   },
   "outputs": [
    {
     "name": "stdout",
     "output_type": "stream",
     "text": [
      "16\n"
     ]
    }
   ],
   "source": [
    "print(5*3+1)"
   ]
  },
  {
   "cell_type": "markdown",
   "id": "16dd3c18",
   "metadata": {},
   "source": [
    "Luca sein erster Versuch"
   ]
  },
  {
   "cell_type": "code",
   "execution_count": null,
   "id": "5ada8f97",
   "metadata": {},
   "outputs": [],
   "source": []
  }
 ],
 "metadata": {
  "jupytext": {
   "cell_metadata_filter": "-all"
  },
  "kernelspec": {
   "display_name": "Python 3 (ipykernel)",
   "language": "python",
   "name": "python3"
  },
  "language_info": {
   "codemirror_mode": {
    "name": "ipython",
    "version": 3
   },
   "file_extension": ".py",
   "mimetype": "text/x-python",
   "name": "python",
   "nbconvert_exporter": "python",
   "pygments_lexer": "ipython3",
   "version": "3.9.7"
  }
 },
 "nbformat": 4,
 "nbformat_minor": 5
}
