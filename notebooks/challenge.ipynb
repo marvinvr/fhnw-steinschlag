{
 "cells": [
  {
   "cell_type": "code",
   "execution_count": 1,
   "id": "23acc167",
   "metadata": {
    "execution": {
     "iopub.execute_input": "2021-10-13T15:10:42.033172Z",
     "iopub.status.busy": "2021-10-13T15:10:42.032574Z",
     "iopub.status.idle": "2021-10-13T15:10:42.041385Z",
     "shell.execute_reply": "2021-10-13T15:10:42.041899Z"
    }
   },
   "outputs": [
    {
     "name": "stdout",
     "output_type": "stream",
     "text": [
      "6\n",
      "testing smth\n"
     ]
    }
   ],
   "source": [
    "print(2*3)\n",
    "print('testing smth')"
   ]
  },
  {
   "cell_type": "code",
   "execution_count": 2,
   "id": "307d5518",
   "metadata": {
    "execution": {
     "iopub.execute_input": "2021-10-13T15:10:42.047200Z",
     "iopub.status.busy": "2021-10-13T15:10:42.046678Z",
     "iopub.status.idle": "2021-10-13T15:10:42.048789Z",
     "shell.execute_reply": "2021-10-13T15:10:42.049215Z"
    }
   },
   "outputs": [
    {
     "name": "stdout",
     "output_type": "stream",
     "text": [
      "16\n"
     ]
    }
   ],
   "source": [
    "print(5*3+1)"
   ]
  },
  {
   "cell_type": "code",
   "execution_count": null,
   "id": "19ff6ee5",
   "metadata": {},
   "outputs": [],
   "source": []
  },
  {
   "cell_type": "code",
   "execution_count": null,
   "id": "bbb159c4",
   "metadata": {},
   "outputs": [],
   "source": []
  }
 ],
 "metadata": {
  "jupytext": {
   "cell_metadata_filter": "-all"
  },
  "kernelspec": {
   "display_name": "Python 3 (ipykernel)",
   "language": "python",
   "name": "python3"
  },
  "language_info": {
   "codemirror_mode": {
    "name": "ipython",
    "version": 3
   },
   "file_extension": ".py",
   "mimetype": "text/x-python",
   "name": "python",
   "nbconvert_exporter": "python",
   "pygments_lexer": "ipython3",
   "version": "3.9.7"
  }
 },
 "nbformat": 4,
 "nbformat_minor": 5
}
