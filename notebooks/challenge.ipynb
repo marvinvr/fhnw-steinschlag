{
 "cells": [
  {
   "cell_type": "code",
   "execution_count": 1,
   "id": "bab4a75a",
   "metadata": {
    "execution": {
     "iopub.execute_input": "2021-10-13T17:19:39.558863Z",
     "iopub.status.busy": "2021-10-13T17:19:39.558253Z",
     "iopub.status.idle": "2021-10-13T17:19:39.568031Z",
     "shell.execute_reply": "2021-10-13T17:19:39.568474Z"
    }
   },
   "outputs": [
    {
     "name": "stdout",
     "output_type": "stream",
     "text": [
      "6\n",
      "testing smth\n",
      "25\n"
     ]
    }
   ],
   "source": [
    "print(2*3)\n",
    "print('testing smth')\n",
    "print(5*5)"
   ]
  },
  {
   "cell_type": "code",
   "execution_count": 2,
   "id": "4a432072",
   "metadata": {
    "execution": {
     "iopub.execute_input": "2021-10-13T17:19:39.573276Z",
     "iopub.status.busy": "2021-10-13T17:19:39.572732Z",
     "iopub.status.idle": "2021-10-13T17:19:39.575029Z",
     "shell.execute_reply": "2021-10-13T17:19:39.575492Z"
    }
   },
   "outputs": [
    {
     "name": "stdout",
     "output_type": "stream",
     "text": [
      "16\n"
     ]
    }
   ],
   "source": [
    "print(5*3+1)"
   ]
  },
  {
   "cell_type": "markdown",
   "id": "993bc8a6",
   "metadata": {},
   "source": [
    "Luca sein erster Versuch"
   ]
  },
  {
   "cell_type": "code",
   "execution_count": 3,
   "id": "529f24e2",
   "metadata": {
    "execution": {
     "iopub.execute_input": "2021-10-13T17:19:39.579578Z",
     "iopub.status.busy": "2021-10-13T17:19:39.579002Z",
     "iopub.status.idle": "2021-10-13T17:19:39.581112Z",
     "shell.execute_reply": "2021-10-13T17:19:39.581537Z"
    },
    "lines_to_next_cell": 0
   },
   "outputs": [
    {
     "name": "stdout",
     "output_type": "stream",
     "text": [
      "Ich bin kein Informatiker\n"
     ]
    }
   ],
   "source": [
    "#Das ist ein Text von Philip Tanner\n",
    "print('Ich bin kein Informatiker')"
   ]
  },
  {
   "cell_type": "code",
   "execution_count": null,
   "id": "4b5271f2",
   "metadata": {},
   "outputs": [],
   "source": []
  }
 ],
 "metadata": {
  "jupytext": {
   "cell_metadata_filter": "-all"
  },
  "kernelspec": {
   "display_name": "Python 3 (ipykernel)",
   "language": "python",
   "name": "python3"
  },
  "language_info": {
   "codemirror_mode": {
    "name": "ipython",
    "version": 3
   },
   "file_extension": ".py",
   "mimetype": "text/x-python",
   "name": "python",
   "nbconvert_exporter": "python",
   "pygments_lexer": "ipython3",
   "version": "3.9.7"
  }
 },
 "nbformat": 4,
 "nbformat_minor": 5
}
