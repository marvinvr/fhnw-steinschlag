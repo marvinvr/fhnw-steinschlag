{
 "cells": [
  {
   "cell_type": "code",
   "execution_count": 1,
   "id": "abab214e",
   "metadata": {
    "execution": {
     "iopub.execute_input": "2021-10-13T15:14:34.339828Z",
     "iopub.status.busy": "2021-10-13T15:14:34.337816Z",
     "iopub.status.idle": "2021-10-13T15:14:34.343127Z",
     "shell.execute_reply": "2021-10-13T15:14:34.343613Z"
    }
   },
   "outputs": [
    {
     "name": "stdout",
     "output_type": "stream",
     "text": [
      "6\n",
      "testing smth\n",
      "25\n"
     ]
    }
   ],
   "source": [
    "print(2*3)\n",
    "print('testing smth')\n",
    "print(5*5)"
   ]
  },
  {
   "cell_type": "code",
   "execution_count": 2,
   "id": "11b01742",
   "metadata": {
    "execution": {
     "iopub.execute_input": "2021-10-13T15:14:34.347995Z",
     "iopub.status.busy": "2021-10-13T15:14:34.347466Z",
     "iopub.status.idle": "2021-10-13T15:14:34.350658Z",
     "shell.execute_reply": "2021-10-13T15:14:34.350134Z"
    }
   },
   "outputs": [
    {
     "name": "stdout",
     "output_type": "stream",
     "text": [
      "16\n"
     ]
    }
   ],
   "source": [
    "print(5*3+1)"
   ]
  },
  {
   "cell_type": "code",
   "execution_count": null,
   "id": "3d7c8e05",
   "metadata": {},
   "outputs": [],
   "source": []
  },
  {
   "cell_type": "code",
   "execution_count": null,
   "id": "30f76971",
   "metadata": {},
   "outputs": [],
   "source": []
  }
 ],
 "metadata": {
  "jupytext": {
   "cell_metadata_filter": "-all"
  },
  "kernelspec": {
   "display_name": "Python 3 (ipykernel)",
   "language": "python",
   "name": "python3"
  },
  "language_info": {
   "codemirror_mode": {
    "name": "ipython",
    "version": 3
   },
   "file_extension": ".py",
   "mimetype": "text/x-python",
   "name": "python",
   "nbconvert_exporter": "python",
   "pygments_lexer": "ipython3",
   "version": "3.9.7"
  }
 },
 "nbformat": 4,
 "nbformat_minor": 5
}
