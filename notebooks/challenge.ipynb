{
 "cells": [
  {
   "cell_type": "code",
   "execution_count": 1,
   "id": "1a7bb446",
   "metadata": {
    "execution": {
     "iopub.execute_input": "2021-10-13T15:17:02.596652Z",
     "iopub.status.busy": "2021-10-13T15:17:02.596029Z",
     "iopub.status.idle": "2021-10-13T15:17:02.606344Z",
     "shell.execute_reply": "2021-10-13T15:17:02.606782Z"
    }
   },
   "outputs": [
    {
     "name": "stdout",
     "output_type": "stream",
     "text": [
      "6\n",
      "testing smth\n",
      "25\n"
     ]
    }
   ],
   "source": [
    "print(2*3)\n",
    "print('testing smth')\n",
    "print(5*5)"
   ]
  },
  {
   "cell_type": "code",
   "execution_count": 2,
   "id": "37168944",
   "metadata": {
    "execution": {
     "iopub.execute_input": "2021-10-13T15:17:02.612488Z",
     "iopub.status.busy": "2021-10-13T15:17:02.611224Z",
     "iopub.status.idle": "2021-10-13T15:17:02.614626Z",
     "shell.execute_reply": "2021-10-13T15:17:02.614154Z"
    }
   },
   "outputs": [
    {
     "name": "stdout",
     "output_type": "stream",
     "text": [
      "16\n"
     ]
    }
   ],
   "source": [
    "print(5*3+1)"
   ]
  },
  {
   "cell_type": "code",
   "execution_count": null,
   "id": "15f9e7a5",
   "metadata": {},
   "outputs": [],
   "source": []
  },
  {
   "cell_type": "code",
   "execution_count": null,
   "id": "54cf9a96",
   "metadata": {},
   "outputs": [],
   "source": []
  }
 ],
 "metadata": {
  "jupytext": {
   "cell_metadata_filter": "-all"
  },
  "kernelspec": {
   "display_name": "Python 3 (ipykernel)",
   "language": "python",
   "name": "python3"
  },
  "language_info": {
   "codemirror_mode": {
    "name": "ipython",
    "version": 3
   },
   "file_extension": ".py",
   "mimetype": "text/x-python",
   "name": "python",
   "nbconvert_exporter": "python",
   "pygments_lexer": "ipython3",
   "version": "3.9.7"
  }
 },
 "nbformat": 4,
 "nbformat_minor": 5
}
