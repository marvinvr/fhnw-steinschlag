{
 "cells": [
  {
   "cell_type": "code",
   "execution_count": 1,
   "id": "a7d21db7",
   "metadata": {
    "execution": {
     "iopub.execute_input": "2021-10-13T14:51:31.014516Z",
     "iopub.status.busy": "2021-10-13T14:51:31.013846Z",
     "iopub.status.idle": "2021-10-13T14:51:31.023249Z",
     "shell.execute_reply": "2021-10-13T14:51:31.023744Z"
    }
   },
   "outputs": [
    {
     "name": "stdout",
     "output_type": "stream",
     "text": [
      "6\n",
      "testing smth\n"
     ]
    }
   ],
   "source": [
    "print(2*3)\n",
    "print('testing smth')"
   ]
  },
  {
   "cell_type": "code",
   "execution_count": 2,
   "id": "aa535a14",
   "metadata": {
    "execution": {
     "iopub.execute_input": "2021-10-13T14:51:31.028112Z",
     "iopub.status.busy": "2021-10-13T14:51:31.027503Z",
     "iopub.status.idle": "2021-10-13T14:51:31.030638Z",
     "shell.execute_reply": "2021-10-13T14:51:31.031132Z"
    }
   },
   "outputs": [
    {
     "name": "stdout",
     "output_type": "stream",
     "text": [
      "16\n"
     ]
    }
   ],
   "source": [
    "print(5*3+1)"
   ]
  },
  {
   "cell_type": "code",
   "execution_count": null,
   "id": "6f5cd8c3",
   "metadata": {},
   "outputs": [],
   "source": []
  },
  {
   "cell_type": "code",
   "execution_count": null,
   "id": "82707e9d",
   "metadata": {},
   "outputs": [],
   "source": []
  }
 ],
 "metadata": {
  "jupytext": {
   "cell_metadata_filter": "-all"
  },
  "kernelspec": {
   "display_name": "Python 3 (ipykernel)",
   "language": "python",
   "name": "python3"
  },
  "language_info": {
   "codemirror_mode": {
    "name": "ipython",
    "version": 3
   },
   "file_extension": ".py",
   "mimetype": "text/x-python",
   "name": "python",
   "nbconvert_exporter": "python",
   "pygments_lexer": "ipython3",
   "version": "3.9.7"
  }
 },
 "nbformat": 4,
 "nbformat_minor": 5
}
