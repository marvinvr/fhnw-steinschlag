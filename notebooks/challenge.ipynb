{
 "cells": [
  {
   "cell_type": "code",
   "execution_count": 1,
   "id": "39a7acb4",
   "metadata": {
    "execution": {
     "iopub.execute_input": "2021-10-13T15:26:46.238978Z",
     "iopub.status.busy": "2021-10-13T15:26:46.232051Z",
     "iopub.status.idle": "2021-10-13T15:26:46.244048Z",
     "shell.execute_reply": "2021-10-13T15:26:46.244588Z"
    }
   },
   "outputs": [
    {
     "name": "stdout",
     "output_type": "stream",
     "text": [
      "6\n",
      "testing smth\n",
      "25\n"
     ]
    }
   ],
   "source": [
    "print(2*3)\n",
    "print('testing smth')\n",
    "print(5*5)"
   ]
  },
  {
   "cell_type": "code",
   "execution_count": 2,
   "id": "d2d29b2c",
   "metadata": {
    "execution": {
     "iopub.execute_input": "2021-10-13T15:26:46.249270Z",
     "iopub.status.busy": "2021-10-13T15:26:46.248742Z",
     "iopub.status.idle": "2021-10-13T15:26:46.253417Z",
     "shell.execute_reply": "2021-10-13T15:26:46.253929Z"
    }
   },
   "outputs": [
    {
     "name": "stdout",
     "output_type": "stream",
     "text": [
      "16\n"
     ]
    }
   ],
   "source": [
    "print(5*3+1)"
   ]
  },
  {
   "cell_type": "markdown",
   "id": "507ea787",
   "metadata": {},
   "source": [
    "Luca sein erster Versuch"
   ]
  },
  {
   "cell_type": "code",
   "execution_count": 3,
   "id": "aa583e09",
   "metadata": {
    "execution": {
     "iopub.execute_input": "2021-10-13T15:26:46.257678Z",
     "iopub.status.busy": "2021-10-13T15:26:46.257161Z",
     "iopub.status.idle": "2021-10-13T15:26:46.259862Z",
     "shell.execute_reply": "2021-10-13T15:26:46.259270Z"
    },
    "lines_to_next_cell": 0
   },
   "outputs": [
    {
     "name": "stdout",
     "output_type": "stream",
     "text": [
      "Ich bin kein Informatiker\n"
     ]
    }
   ],
   "source": [
    "#Das ist ein Text von Philip Tanner\n",
    "print('Ich bin kein Informatiker')"
   ]
  },
  {
   "cell_type": "code",
   "execution_count": null,
   "id": "d9464b04",
   "metadata": {},
   "outputs": [],
   "source": []
  }
 ],
 "metadata": {
  "jupytext": {
   "cell_metadata_filter": "-all"
  },
  "kernelspec": {
   "display_name": "Python 3 (ipykernel)",
   "language": "python",
   "name": "python3"
  },
  "language_info": {
   "codemirror_mode": {
    "name": "ipython",
    "version": 3
   },
   "file_extension": ".py",
   "mimetype": "text/x-python",
   "name": "python",
   "nbconvert_exporter": "python",
   "pygments_lexer": "ipython3",
   "version": "3.9.7"
  }
 },
 "nbformat": 4,
 "nbformat_minor": 5
}
